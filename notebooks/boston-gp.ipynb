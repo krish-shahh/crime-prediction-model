{
 "cells": [
  {
   "cell_type": "code",
   "execution_count": 1,
   "metadata": {
    "collapsed": false
   },
   "outputs": [
    {
     "name": "stderr",
     "output_type": "stream",
     "text": [
      "/usr/local/lib/python2.7/dist-packages/matplotlib/__init__.py:872: UserWarning: axes.color_cycle is deprecated and replaced with axes.prop_cycle; please use the latter.\n",
      "  warnings.warn(self.msg_depr % (key, alt_key))\n"
     ]
    }
   ],
   "source": [
    "import numpy as np\n",
    "import pandas as pd\n",
    "import csv\n",
    "import sklearn.linear_model as lm\n",
    "import matplotlib.pyplot as plt\n",
    "import seaborn as sns\n",
    "import sys"
   ]
  },
  {
   "cell_type": "code",
   "execution_count": 17,
   "metadata": {
    "collapsed": false
   },
   "outputs": [
    {
     "ename": "TypeError",
     "evalue": "'module' object is not callable",
     "output_type": "error",
     "traceback": [
      "\u001b[1;31m---------------------------------------------------------------------------\u001b[0m",
      "\u001b[1;31mTypeError\u001b[0m                                 Traceback (most recent call last)",
      "\u001b[1;32m<ipython-input-17-d1deabe339ed>\u001b[0m in \u001b[0;36m<module>\u001b[1;34m()\u001b[0m\n\u001b[0;32m      1\u001b[0m \u001b[1;31m# add path to\u001b[0m\u001b[1;33m\u001b[0m\u001b[1;33m\u001b[0m\u001b[0m\n\u001b[1;32m----> 2\u001b[1;33m \u001b[0mos\u001b[0m\u001b[1;33m.\u001b[0m\u001b[0mpath\u001b[0m\u001b[1;33m(\u001b[0m\u001b[1;33m)\u001b[0m\u001b[1;33m\u001b[0m\u001b[0m\n\u001b[0m",
      "\u001b[1;31mTypeError\u001b[0m: 'module' object is not callable"
     ]
    }
   ],
   "source": [
    "# add path to \n",
    "os.path()"
   ]
  },
  {
   "cell_type": "code",
   "execution_count": 2,
   "metadata": {
    "collapsed": false
   },
   "outputs": [],
   "source": [
    "'''\n",
    "Utility Functions\n",
    "'''\n",
    "# DATA: months since 2012, X coord, Y coord\n",
    "# if split size = 0, do non\n",
    "def split(X, tr_size):\n",
    "    n_col = np.shape(X)[1]\n",
    "    if tr_size != 0:\n",
    "        Y = np.copy(X)\n",
    "        np.random.shuffle(Y)\n",
    "        break_pt = tr_size * np.shape(X)[0]\n",
    "        train, test = Y[:break_pt,:], Y[break_pt:,:]\n",
    "    else:\n",
    "        break_pt = (3500./4400.) * np.shape(X)[0]\n",
    "        train, test = X[:break_pt,:], X[break_pt:,:]\n",
    "\n",
    "    tr_t, te_t = train[:,n_col-1], test[:,n_col-1]\n",
    "    tr, te = train[:,range(n_col-1)], test[:,range(n_col-1)]\n",
    "    return tr, tr_t, te, te_t\n",
    "\n",
    "# implementation notes: set NaN to mean\n",
    "def normalize_features(X_train):\n",
    "    mean_X_train = np.nanmean(X_train, 0)\n",
    "    for i in xrange(np.shape(X_train)[1]):\n",
    "        col = X_train[:,i]\n",
    "        col[ np.isnan(col) ] = mean_X_train[i]\n",
    "    std_X_train = np.std(X_train, 0)\n",
    "    std_X_train[ std_X_train == 0 ] = 1\n",
    "    X_train_normalized = (X_train - mean_X_train) / std_X_train\n",
    "    return X_train_normalized\n",
    "\n",
    "# Note: bucket edits in place\n",
    "def bucket(X, cols, num_buckets):\n",
    "    Y = np.copy(X)\n",
    "    for col in cols:\n",
    "        buckets = np.linspace(np.min(X[:,col]), np.max(X[:,col]), num=num_buckets+1)\n",
    "        for i in xrange(num_buckets):\n",
    "            X_col = Y[:,col]\n",
    "            X_col[ (buckets[i] <= X_col) & (X_col <= buckets[i+1])] = i\n",
    "            Y[:,col] = X_col\n",
    "    return Y\n",
    "\n",
    "def rmse(predict, true):\n",
    "    return np.sqrt(1.0/np.shape(predict)[0] * np.sum(np.square(predict - true)))"
   ]
  },
  {
   "cell_type": "code",
   "execution_count": 3,
   "metadata": {
    "collapsed": false
   },
   "outputs": [
    {
     "name": "stdout",
     "output_type": "stream",
     "text": [
      "('Warnings raised:', [<warnings.WarningMessage object at 0x7f8d9b1942d0>])\n",
      "('Warning message:', 'Columns (10) have mixed types. Specify dtype option on import or set low_memory=False.')\n",
      "(\"Applying <type 'str'> dtype to columns:\", [10])\n"
     ]
    }
   ],
   "source": [
    "'''\n",
    "Read in data\n",
    "'''\n",
    "\n",
    "import re\n",
    "import warnings\n",
    "\n",
    "bos_file = '../data/boston.csv'\n",
    "target_type = str  # The desired output type\n",
    "\n",
    "with warnings.catch_warnings(record=True) as ws:\n",
    "    warnings.simplefilter(\"always\")\n",
    "\n",
    "    bos_data = pd.read_csv(bos_file, sep=\",\", header=0)\n",
    "    print(\"Warnings raised:\", ws)\n",
    "    # We have an error on specific columns, try and load them as string\n",
    "    for w in ws:\n",
    "        s = str(w.message)\n",
    "        print(\"Warning message:\", s)\n",
    "        match = re.search(r\"Columns \\(([0-9,]+)\\) have mixed types\\.\", s)\n",
    "        if match:\n",
    "            columns = match.group(1).split(',') # Get columns as a list\n",
    "            columns = [int(c) for c in columns]\n",
    "            print(\"Applying %s dtype to columns:\" % target_type, columns)\n",
    "            bos_data.iloc[:,columns] = bos_data.iloc[:,columns].astype(target_type)\n",
    "\n",
    "'''\n",
    "Featurize data\n",
    "'''\n",
    "# temporal features\n",
    "# day of week\n",
    "day = np.array(bos_data.DAY_WEEK)\n",
    "day[ day == \"Sunday\"] = 0\n",
    "day[ day == \"Monday\"] = 1\n",
    "day[ day == \"Tuesday\"] = 2\n",
    "day[ day == \"Wednesday\"] = 3\n",
    "day[ day == \"Thursday\"] = 4\n",
    "day[ day == \"Friday\"] = 5\n",
    "day[ day == \"Saturday\"] = 6\n",
    "\n",
    "# Split mm/dd/yyyy xx:yy:zz AM/PM into components\n",
    "date_time = np.array([x.split() for x in bos_data.FROMDATE])\n",
    "date = date_time[:,0]\n",
    "time = date_time[:,1]\n",
    "tod = date_time[:,2]\n",
    "\n",
    "# month, day, year\n",
    "date = np.array([x.split('/') for x in date])\n",
    "month = [int(x) for x in date[:,0]]\n",
    "dom = [int(x) for x in date[:,1]]\n",
    "year = [int(x) for x in date[:,2]]\n",
    "# months since Jan 2012\n",
    "time_feat = np.subtract(year, 2012)*12 + month\n",
    "\n",
    "# time of day\n",
    "time_c = [x.split(':') for x in time]\n",
    "time = [int(x[1]) if (y == 'AM' and int(x[0]) == 12) else 60*int(x[0])+int(x[1]) \n",
    "        if (y =='AM' and int(x[0]) != 12) or (int(x[0]) == 12 and y == 'PM') else 12*60+60*int(x[0])+int(x[1]) \n",
    "        for x,y in zip(time_c, tod)]\n",
    "\n",
    "# grab the features we want\n",
    "data_unnorm = np.transpose(np.vstack((time_feat, bos_data.X, bos_data.Y))).astype(float)\n",
    "# remove NaNs\n",
    "good_data = data_unnorm[~(np.isnan(data_unnorm[:,1]))]"
   ]
  },
  {
   "cell_type": "code",
   "execution_count": 4,
   "metadata": {
    "collapsed": false
   },
   "outputs": [],
   "source": [
    "'''\n",
    "Count data for each cell. If logSpace is true, returns log values.\n",
    "'''\n",
    "def createBuckets(n_buckets = 15, logSpace = True):\n",
    "    data_b = bucket(good_data, [1, 2], n_buckets)\n",
    "\n",
    "    years = [2012, 2013, 2014, 2015]\n",
    "    n_time = int(data_b[np.argmax(data_b[:,0])][0])\n",
    "\n",
    "    # buckets = np.zeros((n_time, n_buckets, n_buckets))\n",
    "    buckets2 = np.zeros((n_buckets * n_buckets * n_time, 4))\n",
    "\n",
    "    # divide the data up by year and month\n",
    "    for i in xrange(n_time):\n",
    "        for j in xrange(n_buckets):\n",
    "            for k in xrange(n_buckets):\n",
    "                count = data_b[ (data_b[:,0] == i+1) & \n",
    "                                (data_b[:,1] == j) & \n",
    "                                (data_b[:,2] == k)]\n",
    "                # buckets[i][j][k] = np.size(count,0)\n",
    "                buckets2[i*(n_buckets * n_buckets)+j*(n_buckets)+k][0] = i\n",
    "                buckets2[i*(n_buckets * n_buckets)+j*(n_buckets)+k][1] = j\n",
    "                buckets2[i*(n_buckets * n_buckets)+j*(n_buckets)+k][2] = k\n",
    "                buckets2[i*(n_buckets * n_buckets)+j*(n_buckets)+k][3] = np.size(count,0)\n",
    "    print np.shape(buckets2)\n",
    "    \n",
    "    if logSpace:\n",
    "        buckets2[:,3] = np.log(np.add(sys.float_info.epsilon, buckets2[:,3]))\n",
    "    \n",
    "    return buckets2"
   ]
  },
  {
   "cell_type": "code",
   "execution_count": 5,
   "metadata": {
    "collapsed": false
   },
   "outputs": [],
   "source": [
    "'''\n",
    "Our GP\n",
    "    other implementations:\n",
    "    - scikit-learn\n",
    "    - GPy\n",
    "'''\n",
    "\n",
    "# compute the kernel matrix\n",
    "# use square exponential by default\n",
    "def ker_se(x, y, l, horz = 1.0):\n",
    "    \n",
    "    n = np.shape(x)[0]\n",
    "    m = np.shape(y)[0]\n",
    "    \n",
    "    t = np.reshape(x, (np.shape(x)[0], 1, np.shape(x)[1]))\n",
    "    s = np.reshape(y, (1, np.shape(y)[0], np.shape(y)[1]))\n",
    "\n",
    "    # tile across columns\n",
    "    cols = np.tile(t, (1, m, 1))\n",
    "    # tile across rows\n",
    "    rows = np.tile(s, (n, 1, 1))\n",
    "    # get the differences and vectorize\n",
    "    diff_vec = np.reshape(cols - rows, (n*m, np.shape(t)[2]))\n",
    "    \n",
    "    M = np.diag(l)\n",
    "    \n",
    "    # use multiply and sum to calculate matrix product\n",
    "    s = np.multiply(-.5, np.sum(np.multiply(diff_vec, np.transpose(np.dot(M, np.transpose(diff_vec)))), axis=1))\n",
    "    se = np.reshape(np.multiply(horz, np.exp(s)), (n, m))\n",
    "    \n",
    "    return se\n",
    "\n",
    "# p is wavelength\n",
    "def ker_per(x, y, l, p, horz = 1.0):\n",
    "    \n",
    "    n = np.shape(x)[0]\n",
    "    m = np.shape(y)[0]\n",
    "    \n",
    "    t = np.reshape(x, (np.shape(x)[0], 1, np.shape(x)[1]))\n",
    "    s = np.reshape(y, (1, np.shape(y)[0], np.shape(y)[1]))\n",
    "\n",
    "    # tile across columns\n",
    "    cols = np.tile(t, (1, m, 1))\n",
    "    # tile across rows\n",
    "    rows = np.tile(s, (n, 1, 1))\n",
    "    # get the differences and vectorize\n",
    "    diff_vec = np.reshape(cols - rows, (n*m, np.shape(t)[2]))\n",
    "    \n",
    "    P = np.diag(p)\n",
    "    M = np.diag(l)\n",
    "    \n",
    "    # sig^2 exp{ -.5 sum( (sin(pi/p |x - x'|)/l)^2 ) }\n",
    "    sin = np.square(np.dot(np.sin(np.dot(np.multiply(np.pi, diff_vec), P)), M))\n",
    "    exp = np.multiply(-.5, np.sum(sin, axis=1))\n",
    "    #print np.sum(sin, axis=1)\n",
    "    per = np.reshape(np.multiply(horz, np.exp(exp)), (n, m))\n",
    "    \n",
    "    return per"
   ]
  },
  {
   "cell_type": "code",
   "execution_count": 6,
   "metadata": {
    "collapsed": false
   },
   "outputs": [],
   "source": [
    "'''\n",
    "Calculate kernels\n",
    "'''\n",
    "def GaussianProcess(train, train_t, test, test_t, l,\n",
    "                    horz, sig_eps, predict=True, rmse=True, ker='se'):\n",
    "    # Try to be memory efficient by deleting data after use!\n",
    "    if ker == 'se':\n",
    "        ker_fun = ker_se\n",
    "    else:\n",
    "        raise Exception(\"Kernal {} Not Supported!\".format(ker))\n",
    "        \n",
    "    ker1 = ker_fun(train, train, l, horz)\n",
    "    L = np.linalg.cholesky(ker1 + np.multiply(sig_eps, np.identity(np.shape(ker1)[0])))\n",
    "    \n",
    "    alpha = np.linalg.solve(L.T, np.linalg.solve(L, train_t))\n",
    "    \n",
    "    # Only do this if we request the predictions or rmse\n",
    "    ret = []\n",
    "    if predict or rmse:\n",
    "        ker2 = ker_fun(train,test, l, horz)\n",
    "        preds = np.dot(np.transpose(ker2), alpha)\n",
    "        del ker2\n",
    "        ret.append(preds)\n",
    "        \n",
    "    \n",
    "    # Only if we request the rmse\n",
    "    if rmse:\n",
    "        npreds = preds / float(preds.sum())\n",
    "        ntest_t = test_t / float(test_t.sum())\n",
    "        rmse_val = np.sqrt(np.sum(np.square(npreds - ntest_t))/np.shape(preds)[0])\n",
    "        print rmse\n",
    "        ret.append(rmse_val)\n",
    "        \n",
    "    # Calculate the marginal likelihood\n",
    "    likelihood = -.5 * np.dot(np.transpose(train_t), alpha) - np.sum(np.log(np.diagonal(L))) - np.shape(ker1)[0]/2 * np.log(2*np.pi)\n",
    "    ret.append(likelihood)\n",
    "    \n",
    "    del alpha\n",
    "    del L\n",
    "    del ker1\n",
    "    \n",
    "    return tuple(ret)\n"
   ]
  },
  {
   "cell_type": "code",
   "execution_count": 7,
   "metadata": {
    "collapsed": false
   },
   "outputs": [],
   "source": [
    "columns = { 't' : 0, 'x' : 1, 'y' : 2, 'count' : 3}\n",
    "def createHeatMap(X):\n",
    "    '''\n",
    "    Given a data set, creates a heatmap of it based on x,y coordinates.\n",
    "    Ignore the temporal feature. You should subset the data before passing\n",
    "    it into this function if you'd like a heatmap for a specific time period.\n",
    "    '''\n",
    "    n = X[:, columns['x']].astype(int).max()\n",
    "    m = X[:, columns['y']].astype(int).max()\n",
    "    heatmap = np.zeros((n,m))\n",
    "    for i in xrange(n):\n",
    "        for j in xrange(m):\n",
    "            total = X[(X[:, columns['x']] == i) & \n",
    "                      (X[:, columns['y']] == j), columns['count']].sum()\n",
    "            if total > 0:\n",
    "                heatmap[i,j] = total\n",
    "    heatmap = heatmap / float(heatmap.sum())\n",
    "    return heatmap"
   ]
  },
  {
   "cell_type": "code",
   "execution_count": 8,
   "metadata": {
    "collapsed": false
   },
   "outputs": [],
   "source": [
    "# Make some plots for n = 15 for GP process\n",
    "def plotDistribution(predict, true, city, n, process='GP'):\n",
    "    minValue = min(len(predict), 100)\n",
    "    yPred = predict[-minValue:]\n",
    "    yTrue = true[-minValue:]\n",
    "    yPred = yPred / float(np.sum(yPred))\n",
    "    yTrue = yTrue / float(np.sum(yTrue))\n",
    "    plt.clf()\n",
    "    plt.plot(yPred, label=\"Predictions\")\n",
    "    plt.plot(yTrue, label=\"Actual Data\")\n",
    "    plt.title('Predictive Distribution for {}'.format(process))\n",
    "    plt.xlabel('Compressed Features')\n",
    "    plt.ylabel('Probability')\n",
    "    plt.legend()\n",
    "    plt.savefig('../figures/{}_results/{}_n={}_periods={}.png'.format(\n",
    "        city, process, n,12))\n",
    "    plt.close()"
   ]
  },
  {
   "cell_type": "code",
   "execution_count": 9,
   "metadata": {
    "collapsed": false
   },
   "outputs": [],
   "source": [
    "def plotHeatMaps(X_test, predict, city, n, process='GP'):\n",
    "    # Attach the predictions to the data\n",
    "    trueValues = np.copy(X_test)\n",
    "    predictedValues = np.copy(X_test)\n",
    "    predictedValues[:, columns['count']] = predict\n",
    "\n",
    "    # Now we want to plot the heatmaps for the predictions/actual data\n",
    "    # by time period\n",
    "    months = np.unique(X_test[:, columns['t']])\n",
    "    for month in months:\n",
    "        # Create the heatmaps \n",
    "        selected = (X_test[:, columns['t']] == month)\n",
    "        if selected.sum() > 0:\n",
    "            plt.clf()\n",
    "            m = createHeatMap(trueValues[selected, :])\n",
    "            if m.sum() > 0:\n",
    "                sns.heatmap(m)\n",
    "                plt.title('True Density Distribution in Month {}'.format(month))\n",
    "                plt.savefig('../figures/{}_results/{}_heatmap_true_n={}_t={}.png'.format(\n",
    "                    city, process, n, month))\n",
    "                plt.close()\n",
    "\n",
    "            plt.clf()\n",
    "            m = createHeatMap(predictedValues[selected, :])\n",
    "            if m.sum() > 0:\n",
    "                sns.heatmap(m)\n",
    "                plt.title('Predicted Density Distribution in Month {}'.format(month))\n",
    "                plt.savefig('../figures/{}_results/{}_heatmap_pred_n={}_t={}.png'.format(\n",
    "                    city, process, n, month))\n",
    "                plt.close()"
   ]
  },
  {
   "cell_type": "code",
   "execution_count": 12,
   "metadata": {
    "collapsed": false
   },
   "outputs": [
    {
     "name": "stdout",
     "output_type": "stream",
     "text": [
      "(4400, 4)\n",
      "CPU times: user 10.8 s, sys: 4 ms, total: 10.8 s\n",
      "Wall time: 10.8 s\n",
      "CPU times: user 0 ns, sys: 0 ns, total: 0 ns\n",
      "Wall time: 251 µs\n"
     ]
    },
    {
     "name": "stderr",
     "output_type": "stream",
     "text": [
      "/usr/local/lib/python2.7/dist-packages/ipykernel/__main__.py:15: DeprecationWarning: using a non-integer number instead of an integer will result in an error in the future\n"
     ]
    }
   ],
   "source": [
    "log = False\n",
    "%time data = createBuckets(n_buckets=10, logSpace=log)\n",
    "%time train, train_t, test, test_t = split(data, 0)\n",
    "sig_eps = train_t.std()"
   ]
  },
  {
   "cell_type": "code",
   "execution_count": null,
   "metadata": {
    "collapsed": false
   },
   "outputs": [],
   "source": [
    "kern = gp.kern.StdPeriodic(input_dim=3, wavelength=np.ones(3), lengthscale=np.ones(3)*2, ARD1 = True, ARD2 = True)\n",
    "k = kern.K(train)"
   ]
  },
  {
   "cell_type": "code",
   "execution_count": null,
   "metadata": {
    "collapsed": false
   },
   "outputs": [],
   "source": [
    "# These are the optimal parameters for n = 10 (we can try with other values too)\n",
    "l = [9620.11949755, 9620.11949755, 9620.11949755]\n",
    "horz = 0.82754075018\n",
    "sig_eps = train_t.std()\n",
    "%time predictions, rmse, likelihood = GaussianProcess(train, train_t, test, test_t, l, horz, sig_eps)"
   ]
  },
  {
   "cell_type": "code",
   "execution_count": null,
   "metadata": {
    "collapsed": true
   },
   "outputs": [],
   "source": [
    "# Only do the below if logspace !\n",
    "if log:\n",
    "    test_t = np.exp(test_t)\n",
    "    predictions = np.exp(predictions)"
   ]
  },
  {
   "cell_type": "code",
   "execution_count": null,
   "metadata": {
    "collapsed": false
   },
   "outputs": [],
   "source": [
    "plotDistribution(predictions, test_t, 'boston', 15, process='GPSEOptimzied')"
   ]
  },
  {
   "cell_type": "code",
   "execution_count": null,
   "metadata": {
    "collapsed": false
   },
   "outputs": [],
   "source": [
    "np.diag([1,2,3])"
   ]
  },
  {
   "cell_type": "code",
   "execution_count": null,
   "metadata": {
    "collapsed": true
   },
   "outputs": [],
   "source": [
    "X_test = np.zeros((test.shape[0], test.shape[1] + 1)).astype(int)\n",
    "X_test[:,:-1] = test\n",
    "X_test[:,-1] = test_t"
   ]
  },
  {
   "cell_type": "code",
   "execution_count": null,
   "metadata": {
    "collapsed": false
   },
   "outputs": [],
   "source": [
    "plotHeatMaps(X_test, predictions, 'boston', 15, process='GPSELog')"
   ]
  },
  {
   "cell_type": "code",
   "execution_count": null,
   "metadata": {
    "collapsed": true
   },
   "outputs": [],
   "source": [
    "'''\n",
    "Easier method for calling our GP model! Kernal defaults to SE.\n",
    "'''\n",
    "def optimizeGaussianProcess(n, l1, l2, l3, horz, sig_eps,\n",
    "                            log=False):\n",
    "    # Bucketize the data as specified! By default, does Boston data.\n",
    "    data = createBuckets(n, logSpace=log)\n",
    "    \n",
    "    # Split for latest year.\n",
    "    train, train_t, test, test_t = split(data, 0)\n",
    "    \n",
    "    # Calculate the likelihood\n",
    "    l = [l1,l2,l3]\n",
    "    likelihood = GaussianProcess(train, train_t, test, test_t,\n",
    "                                 l, horz, sig_eps,\n",
    "                                 predict = False, rmse = False)\n",
    "    return likelihood"
   ]
  },
  {
   "cell_type": "code",
   "execution_count": null,
   "metadata": {
    "collapsed": false
   },
   "outputs": [],
   "source": [
    "# Collect likelihoods for different n values\n",
    "testN = range(2,10) + range(10,20,5)\n",
    "likelihoods = []\n",
    "for n in testN:\n",
    "    likelihood = optimizeGaussianProcess(n, 1.0, 1.0, 1.0, 1.0, 1.0,\n",
    "                                        log=False)\n",
    "    likelihoods.append(likelihood)"
   ]
  },
  {
   "cell_type": "code",
   "execution_count": null,
   "metadata": {
    "collapsed": false
   },
   "outputs": [],
   "source": [
    "x = testN\n",
    "y = likelihoods\n",
    "line1 = plt.plot(x, y, label=\"Log Likelihood\")\n",
    "plt.title('GP Predictions for Boston')\n",
    "plt.xlabel('Dimension of Grid')\n",
    "plt.ylabel('Log Likelihood')\n",
    "plt.legend()\n",
    "plt.show()"
   ]
  },
  {
   "cell_type": "code",
   "execution_count": null,
   "metadata": {
    "collapsed": false
   },
   "outputs": [],
   "source": [
    "train_t = train_t.reshape((train_t.shape[0], 1))"
   ]
  },
  {
   "cell_type": "code",
   "execution_count": null,
   "metadata": {
    "collapsed": true
   },
   "outputs": [],
   "source": [
    "'''\n",
    "Smart GP\n",
    "'''\n",
    "\n",
    "import GPy as gp"
   ]
  },
  {
   "cell_type": "code",
   "execution_count": null,
   "metadata": {
    "collapsed": true
   },
   "outputs": [],
   "source": [
    "kern = gp.kern.RBF(input_dim=3, variance=1., lengthscale=1.)"
   ]
  },
  {
   "cell_type": "code",
   "execution_count": null,
   "metadata": {
    "collapsed": true
   },
   "outputs": [],
   "source": [
    "from IPython.display import display"
   ]
  },
  {
   "cell_type": "code",
   "execution_count": null,
   "metadata": {
    "collapsed": false
   },
   "outputs": [],
   "source": [
    "train_t = train_t.reshape((train_t.shape[0], 1))\n",
    "%time m = gp.models.GPRegression(train, train_t, kern)"
   ]
  },
  {
   "cell_type": "code",
   "execution_count": null,
   "metadata": {
    "collapsed": false
   },
   "outputs": [],
   "source": [
    "display(m)"
   ]
  },
  {
   "cell_type": "code",
   "execution_count": null,
   "metadata": {
    "collapsed": false
   },
   "outputs": [],
   "source": [
    "# We fix the Gaussian_noise.variance to the std of the training data!\n",
    "m.Gaussian_noise.variance.constrain_fixed(train_t.std())"
   ]
  },
  {
   "cell_type": "code",
   "execution_count": null,
   "metadata": {
    "collapsed": false
   },
   "outputs": [],
   "source": [
    "display(m)"
   ]
  },
  {
   "cell_type": "code",
   "execution_count": null,
   "metadata": {
    "collapsed": false
   },
   "outputs": [],
   "source": [
    "# We're going to constrain some \n",
    "m.optimize(messages=True, max_iters=100)\n",
    "# Total of 110 iterations are being run :)"
   ]
  },
  {
   "cell_type": "code",
   "execution_count": null,
   "metadata": {
    "collapsed": false
   },
   "outputs": [],
   "source": [
    "display(m)"
   ]
  },
  {
   "cell_type": "code",
   "execution_count": null,
   "metadata": {
    "collapsed": true
   },
   "outputs": [],
   "source": [
    "predictions_optimal = m.predict(test)"
   ]
  },
  {
   "cell_type": "code",
   "execution_count": null,
   "metadata": {
    "collapsed": false
   },
   "outputs": [],
   "source": [
    "preds2 = predictions_optimal[0]"
   ]
  },
  {
   "cell_type": "code",
   "execution_count": null,
   "metadata": {
    "collapsed": true
   },
   "outputs": [],
   "source": [
    "plotDistribution(preds2, test_t, 'boston', 10, process='GPSEOptimized2')"
   ]
  },
  {
   "cell_type": "code",
   "execution_count": null,
   "metadata": {
    "collapsed": false
   },
   "outputs": [],
   "source": [
    "len(preds2), len(test_t)"
   ]
  },
  {
   "cell_type": "code",
   "execution_count": null,
   "metadata": {
    "collapsed": false,
    "scrolled": true
   },
   "outputs": [],
   "source": [
    "process = 'GPSEOptimzed2'\n",
    "city = 'boston'\n",
    "n = 10\n",
    "minValue = min(len(preds2), 100)\n",
    "yPred = preds2[-minValue:]\n",
    "yTrue = test_t[-minValue:]\n",
    "yPred = yPred / float(np.sum(yPred))\n",
    "yTrue = yTrue / float(np.sum(yTrue))"
   ]
  },
  {
   "cell_type": "code",
   "execution_count": null,
   "metadata": {
    "collapsed": false
   },
   "outputs": [],
   "source": [
    "plt.clf()\n",
    "plt.plot(yPred, label=\"Predictions\")\n",
    "plt.plot(yTrue, label=\"Actual Data\")\n",
    "plt.title('Predictive Distribution for {}'.format('process'))\n",
    "plt.xlabel('Compressed Features')\n",
    "plt.ylabel('Probability')\n",
    "plt.legend()\n",
    "plt.savefig('../figures/{}_results/{}_n={}_periods={}.png'.format(\n",
    "    city, process, n,12))\n",
    "plt.close()"
   ]
  },
  {
   "cell_type": "code",
   "execution_count": null,
   "metadata": {
    "collapsed": false
   },
   "outputs": [],
   "source": [
    "plt.plot(yPred)"
   ]
  },
  {
   "cell_type": "code",
   "execution_count": null,
   "metadata": {
    "collapsed": true
   },
   "outputs": [],
   "source": [
    "% matplotlib inline\n",
    "plt.show()"
   ]
  },
  {
   "cell_type": "code",
   "execution_count": null,
   "metadata": {
    "collapsed": false
   },
   "outputs": [],
   "source": [
    "plt.close()"
   ]
  },
  {
   "cell_type": "code",
   "execution_count": null,
   "metadata": {
    "collapsed": false
   },
   "outputs": [],
   "source": [
    "test_t"
   ]
  },
  {
   "cell_type": "code",
   "execution_count": null,
   "metadata": {
    "collapsed": false
   },
   "outputs": [],
   "source": [
    "yPred = preds2[-minValue:]\n",
    "yTrue = test_t[-minValue:]\n",
    "yPred = yPred / float(np.sum(yPred))\n",
    "yTrue = yTrue / float(np.sum(yTrue))\n",
    "plt.plot(yPred, label=\"Predictions\")\n",
    "plt.plot(yTrue, label=\"Actual Data\")\n",
    "plt.title('Predictive Distribution for {} in Final Time Period'.format(process))\n",
    "plt.xlabel('Region')\n",
    "plt.ylabel('Probability')\n",
    "plt.legend()"
   ]
  },
  {
   "cell_type": "code",
   "execution_count": null,
   "metadata": {
    "collapsed": false
   },
   "outputs": [],
   "source": [
    "yPred = preds2[:minValue]\n",
    "yTrue = test_t[:minValue]\n",
    "yPred = yPred / float(np.sum(yPred))\n",
    "yTrue = yTrue / float(np.sum(yTrue))\n",
    "plt.plot(yPred, label=\"Predictions\")\n",
    "plt.plot(yTrue, label=\"Actual Data\")\n",
    "plt.title('Predictive Distribution for {} in First Time Period'.format(process))\n",
    "plt.xlabel('Region')\n",
    "plt.ylabel('Probability')\n",
    "plt.legend()"
   ]
  },
  {
   "cell_type": "code",
   "execution_count": null,
   "metadata": {
    "collapsed": false
   },
   "outputs": [],
   "source": [
    "yPred = preds2[:minValue]\n",
    "yTrue = test_t[:minValue]\n",
    "plt.plot(yPred, label=\"Predictions\")\n",
    "plt.plot(yTrue, label=\"Actual Data\")\n",
    "plt.title('Predictive Crime Count for {} in First Time Period'.format(process))\n",
    "plt.xlabel('Region')\n",
    "plt.ylabel('Crime Count')\n",
    "plt.legend()"
   ]
  },
  {
   "cell_type": "code",
   "execution_count": null,
   "metadata": {
    "collapsed": false
   },
   "outputs": [],
   "source": [
    "yPred = preds2[-minValue:]\n",
    "yTrue = test_t[-minValue:]\n",
    "plt.plot(yPred, label=\"Predictions\")\n",
    "plt.plot(yTrue, label=\"Actual Data\")\n",
    "plt.title('Predictive Crime Count for {} in Final Time Period'.format(process))\n",
    "plt.xlabel('Region')\n",
    "plt.ylabel('Crime Count')\n",
    "plt.legend()"
   ]
  },
  {
   "cell_type": "code",
   "execution_count": null,
   "metadata": {
    "collapsed": false
   },
   "outputs": [],
   "source": [
    "plt.plot(preds2[len(preds2) - 100:])"
   ]
  },
  {
   "cell_type": "code",
   "execution_count": null,
   "metadata": {
    "collapsed": false
   },
   "outputs": [],
   "source": [
    "plt.plot(preds2[:100])"
   ]
  },
  {
   "cell_type": "code",
   "execution_count": null,
   "metadata": {
    "collapsed": false
   },
   "outputs": [],
   "source": [
    "selected = []\n",
    "for i in range(100):\n",
    "    selected.append(range(i,len(preds2),100))"
   ]
  },
  {
   "cell_type": "code",
   "execution_count": null,
   "metadata": {
    "collapsed": false
   },
   "outputs": [],
   "source": [
    "for i in range(100):\n",
    "    data = preds2[selected[i]]\n",
    "    if data.sum() > 140:\n",
    "        plt.plot(test_t[selected[i]], label='Region {}'.format(i))\n",
    "        # plt.plot(test_t[selected[i]], label='Actual Region {}'.format(i))\n",
    "plt.title('Crime For Subsequent Month')\n",
    "plt.xlabel('Month (zero-indexed starting after training set)')\n",
    "plt.ylabel('Crime Count')\n",
    "plt.legend()"
   ]
  },
  {
   "cell_type": "code",
   "execution_count": null,
   "metadata": {
    "collapsed": false
   },
   "outputs": [],
   "source": [
    "# Attach the predictions to the data\n",
    "trueValues = np.copy(X_test)\n",
    "predictedValues = np.copy(X_test)\n",
    "predictedValues[:, columns['count']] = preds2"
   ]
  },
  {
   "cell_type": "code",
   "execution_count": null,
   "metadata": {
    "collapsed": false
   },
   "outputs": [],
   "source": [
    "# Now we want to plot the heatmaps for the predictions/actual data\n",
    "# by time period\n",
    "months = np.unique(X_test[:, columns['t']])\n",
    "for month in months:\n",
    "    # Create the heatmaps \n",
    "    selected = (X_test[:, columns['t']] == month)\n",
    "    if selected.sum() > 0:\n",
    "        plt.clf()\n",
    "        m = createHeatMap(trueValues[selected, :])\n",
    "        if m.sum() > 0:\n",
    "            sns.heatmap(m)\n",
    "            plt.title('True Density Distribution in Month {}'.format(month))\n",
    "            plt.savefig('../figures/{}_results/{}_heatmap_true_n={}_t={}.png'.format(\n",
    "                city, process, n, month))\n",
    "            plt.close()\n",
    "\n",
    "        plt.clf()\n",
    "        m = createHeatMap(predictedValues[selected, :])\n",
    "        if m.sum() > 0:\n",
    "            sns.heatmap(m)\n",
    "            plt.title('Predicted Density Distribution in Month {}'.format(month))\n",
    "            plt.savefig('../figures/{}_results/{}_heatmap_pred_n={}_t={}.png'.format(\n",
    "                city, process, n, month))\n",
    "            plt.close()"
   ]
  },
  {
   "cell_type": "code",
   "execution_count": null,
   "metadata": {
    "collapsed": true
   },
   "outputs": [],
   "source": []
  }
 ],
 "metadata": {
  "kernelspec": {
   "display_name": "Python 2",
   "language": "python",
   "name": "python2"
  },
  "language_info": {
   "codemirror_mode": {
    "name": "ipython",
    "version": 2
   },
   "file_extension": ".py",
   "mimetype": "text/x-python",
   "name": "python",
   "nbconvert_exporter": "python",
   "pygments_lexer": "ipython2",
   "version": "2.7.10"
  }
 },
 "nbformat": 4,
 "nbformat_minor": 0
}
